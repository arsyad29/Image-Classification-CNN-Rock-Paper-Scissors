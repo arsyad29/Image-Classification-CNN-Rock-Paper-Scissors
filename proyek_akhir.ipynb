# Write in Google Colab
# Library
import tensorflow as tf
from tensorflow.keras.optimizers import RMSprop
from tensorflow.keras.preprocessing.image import ImageDataGenerator
import zipfile,os
import numpy as np 
from google.colab import files
from keras.preprocessing import image
import matplotlib.pyplot as plt 
import matplotlib.image as mpimg
from keras.layers import Dropout
%matplotlib inline

!wget --no-check-certificate \
https://www.kaggle.com/drgfreeman/rockpaperscissors/download
-O /tmp/rockpaperscissors.zip

local_zip = "/tmp/rockpaperscissors.zip"
zip_ref = zipfile.ZipFile(local_zip, 'r')
zip_ref.extractall('/tmp')
zip_ref.close()

base_dir = '/tmp/images'
train_dir = os.path.join(base_dir, 'train')
validation_dir = os.path.join(base_dir, 'val')

train_rock_dir = os.path.join(train_dir, 'rock')
train_paper_dir = os.path.join(train_dir, 'paper')
train_scissors_dir = os.path.join(train_dir, 'scissors')

validation_rock_dir = os.path.join(train_dir, 'rock')
validation_paper_dir = os.path.join(train_dir, 'paper')
validation_scissors_dir = os.path.join(train_dir, 'scissors')

train_datagen = ImageDataGenerator(
                    rescale=1./255,
                    rotation_range=20,
                    horizontal_flip=True,
                    shear_range = 0.2,
                    fill_mode = 'nearest',
                    validation_split=0.4)

test_datagen = ImageDataGenerator(
                    rescale=1./255,
                    rotation_range=20,
                    horizontal_flip=True,
                    shear_range = 0.2,
                    fill_mode = 'nearest',
                    validation_split=0.4)
                    
train_generator = train_datagen.flow_from_directory(
        train_dir,  
        target_size=(300, 200),
        batch_size=4,
        class_mode='categorical',
        color_mode='rgb',
        subset='training')

validation_generator = test_datagen.flow_from_directory(
        validation_dir,
        target_size=(300, 200),
        batch_size=4,
        class_mode='categorical',
        color_mode='rgb',
        subset='validation')                    

model = tf.keras.models.Sequential([
    tf.keras.layers.Conv2D(32, (3,3), activation='relu', input_shape=(300, 200, 3)),
    tf.keras.layers.MaxPooling2D(2, 2),
    tf.keras.layers.Conv2D(64, (3,3), activation='relu'),
    tf.keras.layers.MaxPooling2D(2,2),
    tf.keras.layers.Conv2D(128, (3,3), activation='relu'),
    tf.keras.layers.MaxPooling2D(2,2),
    tf.keras.layers.Conv2D(256, (3,3), activation='relu'),
    tf.keras.layers.MaxPooling2D(2,2),
    tf.keras.layers.Flatten(),
    tf.keras.layers.Dense(512, activation='relu'),
    tf.keras.layers.Dense(3, activation='softmax')

model.compile(loss='categorical_crossentropy',
              optimizer='adam',
              metrics=['accuracy'])

history = model.fit(
      train_generator,
      steps_per_epoch=25,
      epochs=25,
      validation_data=validation_generator,
      validation_steps=5,
      verbose=2)

uploaded = files.upload()
for fn in uploaded.keys():
  path = fn
  img = image.load_img(path, target_size=(300,200))
  imgplot = plt.imshow(img)
  x = image.img_to_array(img)
  x = np.expand_dims(x, axis=0)

  images = np.vstack([x])
  classes = model.predict(images, batch_size=10)
  
  print(fn)
  prediksi = np.argmax(classes)
  
  if prediksi==0:
    print('paper')
  elif prediksi==1:
    print('rock')
  elif prediksi==2:
    print('scissors')
  else:
    print("tidak diketahui")
